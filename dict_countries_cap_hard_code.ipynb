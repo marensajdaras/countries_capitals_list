{
 "cells": [
  {
   "cell_type": "code",
   "execution_count": 4,
   "metadata": {},
   "outputs": [
    {
     "name": "stdout",
     "output_type": "stream",
     "text": [
      "197\n",
      "197\n",
      "{'Afghanistan': 'Kabul', 'Albania': 'Tirana', 'Algeria': 'Algeris', 'Andorra': 'Andorra La Vella', 'Angola': 'Luanda', 'Antigua and Barbuda': \"Sain John's\", 'Argentina': 'Buenos Aires', 'Armenia': 'Yerevan', 'Australia': 'Canberra', 'Austria': 'Vienna', 'Azerbaijan': 'Baku', 'Bahamas': 'Nassau', 'Bahrain': 'Manama', 'Bangladesh': 'Dhaka', 'Barbados': 'Bridgetown', 'Belarus': 'Minsk', 'Belgium': 'Brussels', 'Belize': 'Belmopan', 'Benin': 'Porto-Novo', 'Bhutan': 'Thimphu', 'Bolivia': 'Sucre', 'Bosnia and Herzegovina': 'Sarajevo', 'Botswana': 'Gaborone', 'Brazil': 'Brasilia', 'Brunei': 'Bandar Seri Begawan', 'Bulgaria': 'Sofia', 'Burkina Faso': 'Ouagadougou', 'Burundi': 'Gitega, Bujumbura', \"Cote d'Ivoire\": 'Yamoussoukro', 'Cabo Verde': 'Praia', 'Cambodia': 'Phnom Penh', 'Cameroon': 'Yaounde', 'Canada': 'Ottawa', 'Central African Republic': 'Bangui', 'Chad': \"N'Djamena\", 'Chile': 'Santiago', 'China': 'Beijing', 'Colombia': 'Bogota', 'Comoros': 'Moroni', 'Congo (Congo-Brazzaville)': 'Brazzaville', 'Costa Rica': 'San Jose', 'Croatia': 'Zagreb', 'Cuba': 'Havana', 'Cyprus': 'Nicosia', 'Czechia (Czech Republic)': 'Prague', 'Democratic Republic of the Congo': 'Kinshasa', 'Denmark': 'Copenhagen', 'Djibouti': 'Djibouti(City)', 'Dominica': 'Roseau', 'Dominican Republic': 'Santo Domingo', 'Ecuador': 'Quito', 'Egypt': 'Cairo', 'El Salvador': 'San Salvador', 'Equatorial Guinea': 'Malabo', 'Eritrea': 'Asmara', 'Estonia': 'Tallinn', 'Eswatini (fmr. \"Swaziland\")': 'Mbabane', 'Ethiopia': 'Addis Ababa', 'Fiji': 'Suva', 'Finland': 'Helsinki', 'France': 'Paris', 'Gabon': 'Libreville', 'Gambia': 'Banjul', 'Georgia': 'Tbilisi', 'Germany': 'Berlin', 'Ghana': 'Accra', 'Greece': 'Athens', 'Grenada': \"Sain George's\", 'Guatemala': 'Gautemala City', 'Guinea': 'Conakry', 'Guinea-Bissau': 'Bissau', 'Guyana': 'Georgetown', 'Haiti': 'Port-Au-Prince', 'Holy See': 'Vatican City', 'Honduras': 'Tegucigalpa', 'Hungary': 'Budapest', 'Iceland': 'Reykjavik', 'India': 'New Delhi', 'Indonesia': 'Jakarta', 'Iran': 'Tehran', 'Iraq': 'Baghdad', 'Ireland': 'Dublin', 'Israel': 'Jerusalem', 'Italy': 'Rome', 'Jamaica': 'Kingston', 'Japan': 'Tokyo', 'Jordan': 'Amman', 'Kazakhstan': 'Nur-Sultan', 'Kenya': 'Nairobi', 'Kiribati': 'South Tarawa', 'Kuwait': 'Kuwait City', 'Kyrgyzstan': 'Bishkek', 'Kosovo': 'Pristina', 'Laos': 'Vientiane', 'Latvia': 'Riga', 'Lebanon': 'Beirut', 'Lesotho': 'Maseru', 'Liberia': 'Monrovia', 'Libya': 'Tripoli', 'Liechtenstein': 'Vaduz', 'Lithuania': 'Vilnius', 'Luxembourg': 'Luxembourg', 'Madagascar': 'Antananario', 'Malawi': 'Lilongwe', 'Malaysia': 'Kuala Lumpur', 'Maldives': 'Male', 'Mali': 'Bamako', 'Malta': 'Valletta', 'Marshall Islands': 'Majuro', 'Mauritania': 'Nouakchott', 'Mauritius': 'Port Louis', 'Mexico': 'Mexico CIty', 'Micronesia': 'Palikir', 'Moldova': 'Chisinau', 'Monaco': 'Monaco', 'Mongolia': 'Ulaanbaatar', 'Montenegro': 'Podgorica', 'Morocco': 'Rabat', 'Mozambique': 'Maputo', 'Myanmar (formerly Burma)': 'Nay Pyi Taw', 'Namibia': 'Windhoek', 'Nauru': 'Yaren District', 'Nepal': 'Kathmandu', 'Netherlands': 'Amsterdam', 'New Zealand': 'Wellington', 'Nicaragua': 'Managua', 'Niger': 'Niamey', 'Nigeria': 'Abuja', 'North Korea': 'Pyongyang', 'North Macedonia': 'Skopje', 'Norway': 'Oslo', 'Oman': 'Muscat', 'Pakistan': 'Islamabad', 'Palau': 'Ngerulmud', 'Palestine State': 'East Jerusalem', 'Panama': 'Panama City', 'Papua New Guinea': 'Port Moresby', 'Paraguay': 'Asuncion', 'Peru': 'Lima', 'Philippines': 'Manila', 'Poland': 'Warsaw', 'Portugal': 'Lisbon', 'Qatar': 'Doha', 'Romania': 'Bucharest', 'Russia': 'Moscow', 'Rwanda': 'Kigali', 'Saint Kitts and Nevis': 'Basseterre', 'Saint Lucia': 'Castries', 'Saint Vincent and the Grenadinese': 'Kingstown', 'Samoa': 'Apia', 'San Marino': 'San Marino', 'Sao Tome and Principe': 'Sao Tome', 'Saudi Arabia': 'Riyadh', 'Senegal': 'Dakar', 'Serbia': 'Belgrade', 'Seychelles': 'Victoria', 'Sierra Leone': 'Freetown', 'Singapore': 'Singapore', 'Slovakia': 'Bratislava', 'Slovenia': 'Ljubljana', 'Solomon Islands': 'Honiara', 'Somalia': 'Mogadishu', 'South Africa': 'Bloemfontein, Cape Town, Pretoria', 'South Korea': 'Seoul', 'South Sudan': 'Juba', 'Spain': 'Madrid', 'Sri Lanka': 'Colombo, Sri Jayawardenepura Kotte', 'Sudan': 'Khartoum', 'Suriname': 'Paramaribo', 'Sweden': 'Stockholm', 'Switzerland': 'Bern', 'Syria': 'Damascus', 'Tajikistan': 'Dushanbe', 'Tanzania': 'Dodoma', 'Thailand': 'Bangkok', 'Timor-Leste': 'Dili', 'Togo': 'Lome', 'Tonga': \"Nuku'Alofa\", 'Trinidad and Tobago': 'Port of Spain', 'Tunisia': 'Tunis', 'Taiwan': 'Taipei', 'Turkey': 'Ankara', 'Turkmenistan': 'Ashgabat', 'Tuvalu': 'Funafuti', 'Uganda': 'Kampala', 'Ukraine': 'Kiev', 'United Arab Emirates': 'Abu Dhabi', 'United Kingdom': 'London', 'United States of America': 'Washington, D.C.', 'Uruguay': 'Montevideo', 'Uzbekistan': 'Tashkent', 'Vanuatu': 'Port Vila', 'Venezuela': 'Caracas', 'Vietnam': 'Hanoi', 'Yemen': \"SANA'A\", 'Zambia': 'Lusaka', 'Zimbabwe': 'Harare'}\n"
     ]
    }
   ],
   "source": [
    "# countries of the world and their capitals \n",
    "# python dictionary \n",
    "countries = ['Afghanistan','Albania','Algeria','Andorra','Angola','Antigua and Barbuda','Argentina','Armenia','Australia','Austria','Azerbaijan','Bahamas','Bahrain','Bangladesh','Barbados','Belarus','Belgium','Belize','Benin','Bhutan','Bolivia','Bosnia and Herzegovina','Botswana','Brazil','Brunei','Bulgaria','Burkina Faso','Burundi','Cote d\\'Ivoire','Cabo Verde','Cambodia','Cameroon','Canada','Central African Republic','Chad','Chile','China','Colombia','Comoros','Congo (Congo-Brazzaville)','Costa Rica','Croatia','Cuba','Cyprus','Czechia (Czech Republic)','Democratic Republic of the Congo','Denmark','Djibouti','Dominica','Dominican Republic','Ecuador','Egypt','El Salvador','Equatorial Guinea','Eritrea','Estonia','Eswatini (fmr. \"Swaziland\")','Ethiopia','Fiji','Finland','France','Gabon','Gambia','Georgia','Germany','Ghana','Greece','Grenada','Guatemala','Guinea','Guinea-Bissau','Guyana','Haiti','Holy See','Honduras','Hungary','Iceland','India','Indonesia','Iran','Iraq','Ireland','Israel','Italy','Jamaica','Japan','Jordan','Kazakhstan','Kenya','Kiribati','Kuwait','Kyrgyzstan','Kosovo','Laos','Latvia','Lebanon','Lesotho','Liberia','Libya','Liechtenstein','Lithuania','Luxembourg','Madagascar','Malawi','Malaysia','Maldives','Mali','Malta','Marshall Islands','Mauritania','Mauritius','Mexico','Micronesia','Moldova','Monaco','Mongolia','Montenegro','Morocco','Mozambique','Myanmar (formerly Burma)','Namibia','Nauru','Nepal','Netherlands','New Zealand','Nicaragua','Niger','Nigeria','North Korea','North Macedonia','Norway','Oman','Pakistan','Palau','Palestine State','Panama','Papua New Guinea','Paraguay','Peru','Philippines','Poland','Portugal','Qatar','Romania','Russia','Rwanda','Saint Kitts and Nevis','Saint Lucia','Saint Vincent and the Grenadinese','Samoa','San Marino','Sao Tome and Principe','Saudi Arabia','Senegal','Serbia','Seychelles','Sierra Leone','Singapore','Slovakia','Slovenia','Solomon Islands','Somalia','South Africa','South Korea','South Sudan','Spain','Sri Lanka','Sudan','Suriname','Sweden','Switzerland','Syria','Tajikistan','Tanzania','Thailand','Timor-Leste','Togo','Tonga','Trinidad and Tobago','Tunisia','Taiwan','Turkey','Turkmenistan','Tuvalu','Uganda','Ukraine','United Arab Emirates','United Kingdom','United States of America','Uruguay','Uzbekistan','Vanuatu','Venezuela','Vietnam','Yemen','Zambia','Zimbabwe']\n",
    "capitals = ['Kabul','Tirana','Algeris','Andorra La Vella','Luanda','Sain John\\'s','Buenos Aires','Yerevan','Canberra','Vienna','Baku','Nassau','Manama','Dhaka','Bridgetown','Minsk','Brussels','Belmopan','Porto-Novo','Thimphu','Sucre','Sarajevo','Gaborone','Brasilia','Bandar Seri Begawan','Sofia','Ouagadougou','Gitega, Bujumbura','Yamoussoukro','Praia','Phnom Penh','Yaounde','Ottawa','Bangui','N\\'Djamena','Santiago','Beijing','Bogota','Moroni','Brazzaville','San Jose','Zagreb','Havana','Nicosia','Prague','Kinshasa','Copenhagen','Djibouti(City)','Roseau','Santo Domingo','Quito','Cairo','San Salvador','Malabo','Asmara','Tallinn','Mbabane','Addis Ababa','Suva','Helsinki','Paris','Libreville','Banjul','Tbilisi','Berlin','Accra','Athens','Sain George\\'s','Gautemala City','Conakry','Bissau','Georgetown','Port-Au-Prince','Vatican City','Tegucigalpa','Budapest','Reykjavik','New Delhi','Jakarta','Tehran','Baghdad','Dublin','Jerusalem','Rome','Kingston','Tokyo','Amman','Nur-Sultan','Nairobi','South Tarawa','Kuwait City','Bishkek','Pristina','Vientiane','Riga','Beirut','Maseru','Monrovia','Tripoli','Vaduz','Vilnius','Luxembourg','Antananario','Lilongwe','Kuala Lumpur','Male','Bamako','Valletta','Majuro','Nouakchott','Port Louis','Mexico CIty','Palikir','Chisinau','Monaco','Ulaanbaatar','Podgorica','Rabat','Maputo','Nay Pyi Taw','Windhoek','Yaren District','Kathmandu','Amsterdam','Wellington','Managua','Niamey','Abuja','Pyongyang','Skopje','Oslo','Muscat','Islamabad','Ngerulmud','East Jerusalem','Panama City','Port Moresby','Asuncion','Lima','Manila','Warsaw','Lisbon','Doha','Bucharest','Moscow','Kigali','Basseterre','Castries','Kingstown','Apia','San Marino','Sao Tome','Riyadh','Dakar','Belgrade','Victoria','Freetown','Singapore','Bratislava','Ljubljana','Honiara','Mogadishu','Bloemfontein, Cape Town, Pretoria','Seoul','Juba','Madrid','Colombo, Sri Jayawardenepura Kotte','Khartoum','Paramaribo','Stockholm','Bern','Damascus','Dushanbe','Dodoma','Bangkok','Dili','Lome','Nuku\\'Alofa','Port of Spain','Tunis','Taipei','Ankara','Ashgabat','Funafuti','Kampala','Kiev','Abu Dhabi','London','Washington, D.C.','Montevideo','Tashkent','Port Vila','Caracas','Hanoi','SANA\\'A','Lusaka','Harare']\n",
    "print(len(countries))\n",
    "print(len(capitals))\n",
    "dict_countries_capital = dict(zip(countries,capitals))\n",
    "print(dict_countries_capital)\n"
   ]
  }
 ],
 "metadata": {
  "interpreter": {
   "hash": "f08154012ddadd8e950e6e9e035c7a7b32c136e7647e9b7c77e02eb723a8bedb"
  },
  "kernelspec": {
   "display_name": "Python 3.9.7 ('base')",
   "language": "python",
   "name": "python3"
  },
  "language_info": {
   "codemirror_mode": {
    "name": "ipython",
    "version": 3
   },
   "file_extension": ".py",
   "mimetype": "text/x-python",
   "name": "python",
   "nbconvert_exporter": "python",
   "pygments_lexer": "ipython3",
   "version": "3.9.7"
  },
  "orig_nbformat": 4
 },
 "nbformat": 4,
 "nbformat_minor": 2
}
